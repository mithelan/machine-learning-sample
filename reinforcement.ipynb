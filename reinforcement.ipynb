{
 "cells": [
  {
   "cell_type": "code",
   "execution_count": 3,
   "metadata": {},
   "outputs": [
    {
     "name": "stdout",
     "output_type": "stream",
     "text": [
      "Collecting gym\n",
      "  Downloading gym-0.18.3.tar.gz (1.6 MB)\n",
      "\u001b[K     |████████████████████████████████| 1.6 MB 134 kB/s eta 0:00:01\n",
      "\u001b[?25hRequirement already satisfied: scipy in /opt/anaconda3/lib/python3.8/site-packages (from gym) (1.5.2)\n",
      "Requirement already satisfied: numpy>=1.10.4 in /opt/anaconda3/lib/python3.8/site-packages (from gym) (1.19.2)\n",
      "Collecting pyglet<=1.5.15,>=1.4.0\n",
      "  Downloading pyglet-1.5.15-py3-none-any.whl (1.1 MB)\n",
      "\u001b[K     |████████████████████████████████| 1.1 MB 366 kB/s eta 0:00:01\n",
      "\u001b[?25hRequirement already satisfied: Pillow<=8.2.0 in /opt/anaconda3/lib/python3.8/site-packages (from gym) (8.0.1)\n",
      "Requirement already satisfied: cloudpickle<1.7.0,>=1.2.0 in /opt/anaconda3/lib/python3.8/site-packages (from gym) (1.6.0)\n",
      "Building wheels for collected packages: gym\n",
      "  Building wheel for gym (setup.py) ... \u001b[?25ldone\n",
      "\u001b[?25h  Created wheel for gym: filename=gym-0.18.3-py3-none-any.whl size=1657513 sha256=bd5bd7a9ecbbd54e5d7691a38d88ad5e4b3d9c1f87c7c245d2a2e3d7c03e280d\n",
      "  Stored in directory: /Users/admin/Library/Caches/pip/wheels/b3/03/54/9141c232861b89be935b37bdde0ea5ab472f5e18fc20623aed\n",
      "Successfully built gym\n",
      "Installing collected packages: pyglet, gym\n",
      "Successfully installed gym-0.18.3 pyglet-1.5.15\n",
      "Note: you may need to restart the kernel to use updated packages.\n"
     ]
    }
   ],
   "source": [
    "pip install gym"
   ]
  },
  {
   "cell_type": "code",
   "execution_count": 4,
   "metadata": {},
   "outputs": [],
   "source": [
    "import gym\n",
    "import numpy as np\n",
    "import random"
   ]
  },
  {
   "cell_type": "code",
   "execution_count": 6,
   "metadata": {},
   "outputs": [
    {
     "name": "stdout",
     "output_type": "stream",
     "text": [
      "+---------+\n",
      "|\u001b[34;1mR\u001b[0m: | : :G|\n",
      "| : | : : |\n",
      "| : : : : |\n",
      "|\u001b[43m \u001b[0m| : | : |\n",
      "|Y| : |\u001b[35mB\u001b[0m: |\n",
      "+---------+\n",
      "\n",
      "+---------+\n",
      "|\u001b[34;1mR\u001b[0m: | : :\u001b[35mG\u001b[0m|\n",
      "|\u001b[43m \u001b[0m: | : : |\n",
      "| : : : : |\n",
      "| | : | : |\n",
      "|Y| : |B: |\n",
      "+---------+\n",
      "\n",
      "Discrete(6)\n",
      "Discrete(500)\n",
      "+---------+\n",
      "|\u001b[35mR\u001b[0m: | : :G|\n",
      "| : | : : |\n",
      "| : : : : |\n",
      "| |\u001b[43m \u001b[0m: | : |\n",
      "|\u001b[34;1mY\u001b[0m| : |B: |\n",
      "+---------+\n",
      "\n",
      "328\n",
      "{0: [(1.0, 428, -1, False)], 1: [(1.0, 228, -1, False)], 2: [(1.0, 348, -1, False)], 3: [(1.0, 328, -1, False)], 4: [(1.0, 328, -10, False)], 5: [(1.0, 328, -10, False)]}\n",
      "Timesteps taken: 65\n",
      "Penalties incurred: 29\n",
      "[0. 0. 0. 0. 0. 0.]\n",
      "[-1.4724725  -1.50811951 -1.48930394 -1.48162639 -3.62609543 -2.79359326]\n",
      "Timesteps taken: 299\n",
      "Penalties incurred: 15\n",
      "Average timesteps per episode: 456.05\n",
      "Average penalties per episode 24.76\n"
     ]
    }
   ],
   "source": [
    "e = gym.make(\"Taxi-v3\").env\n",
    "e.render()\n",
    "\n",
    "e.reset()\n",
    "#show image\n",
    "e.render()\n",
    "\n",
    "\n",
    "#6 spaces as it takes pick and drop + 4 directions\n",
    "print (e.action_space)\n",
    "\n",
    "#total states\n",
    "print (e.observation_space)\n",
    "\n",
    "e.s = e.encode(3, 1, 2, 0) # (taxi row, taxi column, passenger index, destination index)\n",
    "e.render()\n",
    "\n",
    "print (e.s)\n",
    "print (e.P[328])\n",
    "\n",
    "epochs, penalties, reward = 0, 0, 0\n",
    "while not reward == 20:\n",
    "    action = e.action_space.sample()\n",
    "    state, reward, done, info = e.step(action) # (284, -1, False, {'prob': 1.0})\n",
    "    if reward == -10:\n",
    "        penalties += 1     \n",
    "    epochs += 1      \n",
    "print(\"Timesteps taken:\",epochs)\n",
    "print(\"Penalties incurred:\",penalties)\n",
    "\n",
    "q_table = np.zeros([e.observation_space.n, e.action_space.n])\n",
    "print (q_table[328])\n",
    "total_epochs, total_penalties = 0, 0\n",
    "for i in range(1, 100):\n",
    "    state = e.reset()\n",
    "    epochs, penalties, reward, = 0, 0, 0\n",
    "    done = False        \n",
    "    while not done:\n",
    "        if random.uniform(0, 1) < 0.1:\n",
    "            action = e.action_space.sample() # Explore action space\n",
    "        else:\n",
    "            action = np.argmax(q_table[state]) # Exploit learned values\n",
    "        next_state, reward, done, info = e.step(action)          \n",
    "        old_value = q_table[state, action]\n",
    "        next_max = np.max(q_table[next_state])       \n",
    "        new_value = (1 - 0.1) * old_value + 0.1 * (reward + 0.6 * next_max)\n",
    "        q_table[state, action] = new_value\n",
    "        if reward == -10:\n",
    "            penalties += 1\n",
    "        state = next_state\n",
    "        epochs += 1 \n",
    "    total_penalties += penalties\n",
    "    total_epochs += epochs              \n",
    "\n",
    "print (q_table[328])  \n",
    "print(\"Timesteps taken:\",epochs)\n",
    "print(\"Penalties incurred:\",penalties)\n",
    "print(\"Average timesteps per episode:\",(total_epochs / 100))\n",
    "print(\"Average penalties per episode\",(total_penalties / 100))"
   ]
  },
  {
   "cell_type": "code",
   "execution_count": null,
   "metadata": {},
   "outputs": [],
   "source": []
  }
 ],
 "metadata": {
  "kernelspec": {
   "display_name": "Python 3",
   "language": "python",
   "name": "python3"
  },
  "language_info": {
   "codemirror_mode": {
    "name": "ipython",
    "version": 3
   },
   "file_extension": ".py",
   "mimetype": "text/x-python",
   "name": "python",
   "nbconvert_exporter": "python",
   "pygments_lexer": "ipython3",
   "version": "3.8.5"
  }
 },
 "nbformat": 4,
 "nbformat_minor": 4
}
